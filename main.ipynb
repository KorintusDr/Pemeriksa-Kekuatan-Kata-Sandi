{
 "cells": [
  {
   "cell_type": "markdown",
   "metadata": {},
   "source": [
    "## Pemeriksa Kekuatan Kata Sandi "
   ]
  },
  {
   "cell_type": "code",
   "execution_count": null,
   "metadata": {},
   "outputs": [],
   "source": [
    "import pandas as pd\n",
    "import numpy as np\n",
    "from sklearn.feature_extraction.text import CountVectorizer\n",
    "from sklearn.feature_extraction.text import TfidfVectorizer\n",
    "from sklearn.model_selection import train_test_split\n",
    "from sklearn.ensemble import RandomForestClassifier"
   ]
  },
  {
   "cell_type": "code",
   "execution_count": null,
   "metadata": {},
   "outputs": [],
   "source": [
    "data = pd.read_csv(\"data.csv\", error_bad_lines=False)\n",
    "print(data.head())"
   ]
  },
  {
   "cell_type": "markdown",
   "metadata": {},
   "source": [
    "Kumpulan data ini memiliki dua kolom; kata sandi dan kekuatan. Di kolom kekuatan:\n",
    "\n",
    "1. 0 berarti: kekuatan kata sandinya lemah;\n",
    "2. 1 berarti: kekuatan kata sandi sedang;\n",
    "3. 2 berarti: kekuatan kata sandinya kuat;\n",
    "\n",
    "Sebelum melanjutkan, saya akan mengubah nilai 0, 1, dan 2 di kolom kekuatan menjadi lemah, sedang, dan kuat:"
   ]
  },
  {
   "cell_type": "code",
   "execution_count": null,
   "metadata": {},
   "outputs": [],
   "source": [
    "data = data.dropna()\n",
    "data[\"strength\"] = data[\"strength\"].map({0: \"Weak\",\n",
    "                                         1: \"Medium\",\n",
    "                                         2: \"Strong\"})\n",
    "print(data.sample(5))"
   ]
  },
  {
   "cell_type": "markdown",
   "metadata": {},
   "source": [
    "## Model Prediksi Kekuatan Kata Sandi\n",
    "\n",
    "Sekarang mari kita beralih ke pelatihan model pembelajaran mesin untuk memprediksi kekuatan kata sandi. Sebelum kita mulai mempersiapkan model, kita perlu membuat token pada kata sandi karena kita perlu model untuk belajar dari kombinasi angka, huruf, dan simbol untuk memprediksi kekuatan kata sandi. Jadi, berikut ini cara kita dapat membuat token dan membagi data menjadi set pelatihan dan pengujian:"
   ]
  },
  {
   "cell_type": "code",
   "execution_count": null,
   "metadata": {},
   "outputs": [],
   "source": [
    "def word(password):\n",
    "    character=[]\n",
    "    for i in password:\n",
    "        character.append(i)\n",
    "    return character\n",
    "\n",
    "x = np.array(data[\"password\"])\n",
    "y = np.array(data[\"strength\"])\n",
    "\n",
    "tdif = TfidfVectorizer(tokenizer=word)\n",
    "x = tdif.fit_transform(x)\n",
    "\n",
    "x_train, x_test, y_train, y_test = train_test_split(x,y,\n",
    "                                                    test_size=0.05,\n",
    "                                                    random_state=42)"
   ]
  },
  {
   "cell_type": "markdown",
   "metadata": {},
   "source": [
    "Berikut cara melatih model klasifikasi untuk memprediksi kekuatan kata sandi:"
   ]
  },
  {
   "cell_type": "code",
   "execution_count": 5,
   "metadata": {},
   "outputs": [],
   "source": [
    "model = RandomForestClassifier()\n",
    "model.fit(x_train, y_train)\n",
    "print(model.score(x_test,y_test))"
   ]
  },
  {
   "cell_type": "markdown",
   "metadata": {},
   "source": [
    "Berikut ini cara kita dapat memeriksa kekuatan kata sandi menggunakan model yang terlatih:"
   ]
  },
  {
   "cell_type": "code",
   "execution_count": null,
   "metadata": {},
   "outputs": [],
   "source": [
    "import getpass\n",
    "user = getpass(\"Masukan Kata Sandi Anda: \")\n",
    "data = tdif.transform([user]  ).toarray()\n",
    "output = model.predict(data)\n",
    "print(output)"
   ]
  }
 ],
 "metadata": {
  "kernelspec": {
   "display_name": "myenv",
   "language": "python",
   "name": "python3"
  },
  "language_info": {
   "codemirror_mode": {
    "name": "ipython",
    "version": 3
   },
   "file_extension": ".py",
   "mimetype": "text/x-python",
   "name": "python",
   "nbconvert_exporter": "python",
   "pygments_lexer": "ipython3",
   "version": "3.8.19"
  }
 },
 "nbformat": 4,
 "nbformat_minor": 2
}
